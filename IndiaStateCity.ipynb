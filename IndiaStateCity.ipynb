{
 "cells": [
  {
   "cell_type": "code",
   "execution_count": 1,
   "id": "529eb247",
   "metadata": {},
   "outputs": [],
   "source": [
    "import pandas as pd\n",
    "import json"
   ]
  },
  {
   "cell_type": "code",
   "execution_count": 2,
   "id": "d442271f",
   "metadata": {},
   "outputs": [],
   "source": [
    "df = pd.read_csv(\"all_india_PO_list_without_APS_offices_ver2_lat_long.csv\")"
   ]
  },
  {
   "cell_type": "code",
   "execution_count": 3,
   "id": "884cd8a7",
   "metadata": {},
   "outputs": [
    {
     "data": {
      "text/html": [
       "<div>\n",
       "<style scoped>\n",
       "    .dataframe tbody tr th:only-of-type {\n",
       "        vertical-align: middle;\n",
       "    }\n",
       "\n",
       "    .dataframe tbody tr th {\n",
       "        vertical-align: top;\n",
       "    }\n",
       "\n",
       "    .dataframe thead th {\n",
       "        text-align: right;\n",
       "    }\n",
       "</style>\n",
       "<table border=\"1\" class=\"dataframe\">\n",
       "  <thead>\n",
       "    <tr style=\"text-align: right;\">\n",
       "      <th></th>\n",
       "      <th>officename</th>\n",
       "      <th>pincode</th>\n",
       "      <th>officeType</th>\n",
       "      <th>Deliverystatus</th>\n",
       "      <th>divisionname</th>\n",
       "      <th>regionname</th>\n",
       "      <th>circlename</th>\n",
       "      <th>Taluk</th>\n",
       "      <th>Districtname</th>\n",
       "      <th>statename</th>\n",
       "      <th>Telephone</th>\n",
       "      <th>Related Suboffice</th>\n",
       "      <th>Related Headoffice</th>\n",
       "      <th>longitude</th>\n",
       "      <th>latitude</th>\n",
       "    </tr>\n",
       "  </thead>\n",
       "  <tbody>\n",
       "    <tr>\n",
       "      <th>0</th>\n",
       "      <td>Achalapur B.O</td>\n",
       "      <td>504273</td>\n",
       "      <td>B.O</td>\n",
       "      <td>Delivery</td>\n",
       "      <td>Adilabad</td>\n",
       "      <td>Hyderabad</td>\n",
       "      <td>Andhra Pradesh</td>\n",
       "      <td>Asifabad</td>\n",
       "      <td>Adilabad</td>\n",
       "      <td>TELANGANA</td>\n",
       "      <td>NaN</td>\n",
       "      <td>Rechini S.O</td>\n",
       "      <td>Mancherial H.O</td>\n",
       "      <td>NaN</td>\n",
       "      <td>NaN</td>\n",
       "    </tr>\n",
       "    <tr>\n",
       "      <th>1</th>\n",
       "      <td>Ada B.O</td>\n",
       "      <td>504293</td>\n",
       "      <td>B.O</td>\n",
       "      <td>Delivery</td>\n",
       "      <td>Adilabad</td>\n",
       "      <td>Hyderabad</td>\n",
       "      <td>Andhra Pradesh</td>\n",
       "      <td>Asifabad</td>\n",
       "      <td>Adilabad</td>\n",
       "      <td>TELANGANA</td>\n",
       "      <td>NaN</td>\n",
       "      <td>Asifabad S.O</td>\n",
       "      <td>Mancherial H.O</td>\n",
       "      <td>NaN</td>\n",
       "      <td>NaN</td>\n",
       "    </tr>\n",
       "    <tr>\n",
       "      <th>2</th>\n",
       "      <td>Adegaon B.O</td>\n",
       "      <td>504307</td>\n",
       "      <td>B.O</td>\n",
       "      <td>Delivery</td>\n",
       "      <td>Adilabad</td>\n",
       "      <td>Hyderabad</td>\n",
       "      <td>Andhra Pradesh</td>\n",
       "      <td>Boath</td>\n",
       "      <td>Adilabad</td>\n",
       "      <td>TELANGANA</td>\n",
       "      <td>NaN</td>\n",
       "      <td>Echoda S.O</td>\n",
       "      <td>Adilabad H.O</td>\n",
       "      <td>NaN</td>\n",
       "      <td>NaN</td>\n",
       "    </tr>\n",
       "    <tr>\n",
       "      <th>3</th>\n",
       "      <td>Adilabad Collectorate S.O</td>\n",
       "      <td>504001</td>\n",
       "      <td>S.O</td>\n",
       "      <td>Non-Delivery</td>\n",
       "      <td>Adilabad</td>\n",
       "      <td>Hyderabad</td>\n",
       "      <td>Andhra Pradesh</td>\n",
       "      <td>Adilabad</td>\n",
       "      <td>Adilabad</td>\n",
       "      <td>TELANGANA</td>\n",
       "      <td>08732-226703</td>\n",
       "      <td>NaN</td>\n",
       "      <td>Adilabad H.O</td>\n",
       "      <td>NaN</td>\n",
       "      <td>NaN</td>\n",
       "    </tr>\n",
       "    <tr>\n",
       "      <th>4</th>\n",
       "      <td>Adilabad H.O</td>\n",
       "      <td>504001</td>\n",
       "      <td>H.O</td>\n",
       "      <td>Delivery</td>\n",
       "      <td>Adilabad</td>\n",
       "      <td>Hyderabad</td>\n",
       "      <td>Andhra Pradesh</td>\n",
       "      <td>Adilabad</td>\n",
       "      <td>Adilabad</td>\n",
       "      <td>TELANGANA</td>\n",
       "      <td>08732-226738</td>\n",
       "      <td>NaN</td>\n",
       "      <td>NaN</td>\n",
       "      <td>NaN</td>\n",
       "      <td>NaN</td>\n",
       "    </tr>\n",
       "  </tbody>\n",
       "</table>\n",
       "</div>"
      ],
      "text/plain": [
       "                  officename  pincode officeType Deliverystatus divisionname  \\\n",
       "0              Achalapur B.O   504273        B.O       Delivery     Adilabad   \n",
       "1                    Ada B.O   504293        B.O       Delivery     Adilabad   \n",
       "2                Adegaon B.O   504307        B.O       Delivery     Adilabad   \n",
       "3  Adilabad Collectorate S.O   504001        S.O   Non-Delivery     Adilabad   \n",
       "4               Adilabad H.O   504001        H.O       Delivery     Adilabad   \n",
       "\n",
       "  regionname      circlename     Taluk Districtname  statename     Telephone  \\\n",
       "0  Hyderabad  Andhra Pradesh  Asifabad     Adilabad  TELANGANA           NaN   \n",
       "1  Hyderabad  Andhra Pradesh  Asifabad     Adilabad  TELANGANA           NaN   \n",
       "2  Hyderabad  Andhra Pradesh     Boath     Adilabad  TELANGANA           NaN   \n",
       "3  Hyderabad  Andhra Pradesh  Adilabad     Adilabad  TELANGANA  08732-226703   \n",
       "4  Hyderabad  Andhra Pradesh  Adilabad     Adilabad  TELANGANA  08732-226738   \n",
       "\n",
       "  Related Suboffice Related Headoffice  longitude  latitude  \n",
       "0       Rechini S.O     Mancherial H.O        NaN       NaN  \n",
       "1      Asifabad S.O     Mancherial H.O        NaN       NaN  \n",
       "2        Echoda S.O       Adilabad H.O        NaN       NaN  \n",
       "3               NaN       Adilabad H.O        NaN       NaN  \n",
       "4               NaN                NaN        NaN       NaN  "
      ]
     },
     "execution_count": 3,
     "metadata": {},
     "output_type": "execute_result"
    }
   ],
   "source": [
    "df.head()"
   ]
  },
  {
   "cell_type": "code",
   "execution_count": 4,
   "id": "c265e3b7",
   "metadata": {},
   "outputs": [],
   "source": [
    "dictObj = [df.groupby('statename') \\\n",
    "    .apply(lambda x: x.groupby('Districtname').apply(lambda x : x['pincode'].unique().tolist()).to_dict()).to_dict()]"
   ]
  },
  {
   "cell_type": "code",
   "execution_count": null,
   "id": "0f04008b",
   "metadata": {},
   "outputs": [],
   "source": [
    "with open('data.json', 'w') as fp:\n",
    "    json.dump(dictObj, fp)"
   ]
  },
  {
   "cell_type": "code",
   "execution_count": 5,
   "id": "511bf4ca",
   "metadata": {},
   "outputs": [],
   "source": [
    "x = dictObj[0][\"JAMMU & KASHMIR\"][\"Jammu\"]"
   ]
  },
  {
   "cell_type": "code",
   "execution_count": 6,
   "id": "47d17d34",
   "metadata": {},
   "outputs": [
    {
     "data": {
      "text/plain": [
       "[181121,\n",
       " 181141,\n",
       " 181131,\n",
       " 181102,\n",
       " 180017,\n",
       " 180002,\n",
       " 181201,\n",
       " 180006,\n",
       " 181202,\n",
       " 180001,\n",
       " 181132,\n",
       " 181123,\n",
       " 181122,\n",
       " 181204,\n",
       " 181133,\n",
       " 184121,\n",
       " 181206,\n",
       " 181152,\n",
       " 181224,\n",
       " 181101,\n",
       " 181124,\n",
       " 181203,\n",
       " 184120,\n",
       " 180015,\n",
       " 180011,\n",
       " 185154,\n",
       " 181111,\n",
       " 180004,\n",
       " 180010,\n",
       " 180016,\n",
       " 181207,\n",
       " 181143,\n",
       " 180003,\n",
       " 181221,\n",
       " 180007,\n",
       " 180005,\n",
       " 181145,\n",
       " 180012,\n",
       " 181205,\n",
       " 180013,\n",
       " 180019,\n",
       " 180009,\n",
       " 180020,\n",
       " 180018]"
      ]
     },
     "execution_count": 6,
     "metadata": {},
     "output_type": "execute_result"
    }
   ],
   "source": [
    "x"
   ]
  },
  {
   "cell_type": "code",
   "execution_count": 7,
   "id": "bad2ec3a",
   "metadata": {},
   "outputs": [
    {
     "data": {
      "text/plain": [
       "44"
      ]
     },
     "execution_count": 7,
     "metadata": {},
     "output_type": "execute_result"
    }
   ],
   "source": [
    "len(x)"
   ]
  },
  {
   "cell_type": "code",
   "execution_count": null,
   "id": "95dbea79",
   "metadata": {},
   "outputs": [],
   "source": []
  }
 ],
 "metadata": {
  "kernelspec": {
   "display_name": "Python 3 (ipykernel)",
   "language": "python",
   "name": "python3"
  },
  "language_info": {
   "codemirror_mode": {
    "name": "ipython",
    "version": 3
   },
   "file_extension": ".py",
   "mimetype": "text/x-python",
   "name": "python",
   "nbconvert_exporter": "python",
   "pygments_lexer": "ipython3",
   "version": "3.8.10"
  }
 },
 "nbformat": 4,
 "nbformat_minor": 5
}
